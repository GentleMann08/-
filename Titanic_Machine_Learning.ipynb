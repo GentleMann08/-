{
  "nbformat": 4,
  "nbformat_minor": 0,
  "metadata": {
    "colab": {
      "provenance": [],
      "authorship_tag": "ABX9TyNevCJtFYxutasbxTEXPt9N",
      "include_colab_link": true
    },
    "kernelspec": {
      "name": "python3",
      "display_name": "Python 3"
    },
    "language_info": {
      "name": "python"
    }
  },
  "cells": [
    {
      "cell_type": "markdown",
      "metadata": {
        "id": "view-in-github",
        "colab_type": "text"
      },
      "source": [
        "<a href=\"https://colab.research.google.com/github/GentleMann08/-/blob/main/Titanic_Machine_Learning.ipynb\" target=\"_parent\"><img src=\"https://colab.research.google.com/assets/colab-badge.svg\" alt=\"Open In Colab\"/></a>"
      ]
    },
    {
      "cell_type": "markdown",
      "source": [
        "# Подготовка кода"
      ],
      "metadata": {
        "id": "rRjXFxBo9chC"
      }
    },
    {
      "cell_type": "markdown",
      "source": [
        "* Импортирование библиотек для работы с методами машинного обучения, а также для получения анализируемых нами наборов данных."
      ],
      "metadata": {
        "id": "uhOwlsPF_ZUR"
      }
    },
    {
      "cell_type": "code",
      "execution_count": 45,
      "metadata": {
        "id": "BZf5GzrEu-0Y"
      },
      "outputs": [],
      "source": [
        "import seaborn\n",
        "import pandas as pd\n",
        "from sklearn.model_selection import train_test_split\n",
        "from sklearn.metrics import accuracy_score\n",
        "import xgboost as xgb"
      ]
    },
    {
      "cell_type": "markdown",
      "source": [
        "* Выгрузка датасета с данными о пассажирах Титаника."
      ],
      "metadata": {
        "id": "W-Mo9pIq-EiD"
      }
    },
    {
      "cell_type": "code",
      "source": [
        "titanic = seaborn.load_dataset('titanic')"
      ],
      "metadata": {
        "id": "MoR9dwau8EqM"
      },
      "execution_count": 46,
      "outputs": []
    },
    {
      "cell_type": "markdown",
      "source": [
        "# Работа с данными и обучение модели"
      ],
      "metadata": {
        "id": "abeBbEM1-1xR"
      }
    },
    {
      "cell_type": "markdown",
      "source": [
        "* Выделение интересующих нас признаков и распределение данных на раздел обучения и тестирования."
      ],
      "metadata": {
        "id": "azxE4tWH_gff"
      }
    },
    {
      "cell_type": "code",
      "source": [
        "# Определение признаков для использования в модели\n",
        "# 'pclass' - класс пассажира\n",
        "# 'sex' - пол пассажира\n",
        "# 'age' - возраст пассажира\n",
        "# 'fare' - стоимость билета\n",
        "X = titanic[['pclass', 'sex', 'age', 'fare']].copy()\n",
        "\n",
        "# Кодирование категориальной переменной 'sex' в числовые значения\n",
        "# 'male' будет кодироваться как 1, 'female' как 0\n",
        "X['sex'] = pd.Categorical(X['sex']).codes\n",
        "\n",
        "# Заполнение пропущенных значений в колонке 'age' средними значениями\n",
        "# Это необходимо, потому что модели машинного обучения не могут обрабатывать пропуски\n",
        "X['age'].fillna(X['age'].mean(), inplace=True)\n",
        "\n",
        "# Выделение целевой переменной 'survived' - информация о выживании\n",
        "y = titanic['survived']\n",
        "\n",
        "# Разделение данных на обучающий и тестовый наборы\n",
        "# 80% данных будут использоваться для обучения, 20% - для тестирования\n",
        "X_train, X_test, y_train, y_test = train_test_split(X, y, test_size=0.2, random_state=42)"
      ],
      "metadata": {
        "id": "9VCB-51g2Os6"
      },
      "execution_count": 47,
      "outputs": []
    },
    {
      "cell_type": "markdown",
      "source": [
        "* Выдача характеристик модели"
      ],
      "metadata": {
        "id": "ipR_nDNw_vcZ"
      }
    },
    {
      "cell_type": "code",
      "source": [
        "# Инициализация классификатора градиентного бустинга с выбранными гиперпараметрами\n",
        "model = xgb.XGBClassifier(objective='binary:logistic',   # Задача бинарной классификации\n",
        "                          n_estimators=100,              # Количество базовых моделей в бустинге\n",
        "                          learning_rate=0.05,            # Скорость обучения\n",
        "                          max_depth=5)                   # Максимальная глубина деревьев"
      ],
      "metadata": {
        "id": "KlHT2PJS5Yos"
      },
      "execution_count": 48,
      "outputs": []
    },
    {
      "cell_type": "markdown",
      "source": [
        "* Обучение модели и получение функции предсказания выживаемости на основе выделенных нами признаков"
      ],
      "metadata": {
        "id": "XAiXYOkkAAIk"
      }
    },
    {
      "cell_type": "code",
      "source": [
        "# Обучение модели на обучающих данных\n",
        "model.fit(X_train, y_train)\n",
        "\n",
        "# Получение предсказаний от модели для тестовой выборки\n",
        "y_pred = model.predict(X_test)"
      ],
      "metadata": {
        "id": "OohoWT6P4HmS"
      },
      "execution_count": 49,
      "outputs": []
    },
    {
      "cell_type": "markdown",
      "source": [
        "# Работа с полученной моделью"
      ],
      "metadata": {
        "id": "vI4upi2BAaz5"
      }
    },
    {
      "cell_type": "markdown",
      "source": [
        "\n",
        "\n",
        "*   Проверка точности на тестировочных данных\n",
        "\n"
      ],
      "metadata": {
        "id": "sGLyy9v0Aj3j"
      }
    },
    {
      "cell_type": "code",
      "source": [
        "# Вычисление точности как доли правильно предсказанных меток относительно истинных\n",
        "accuracy = accuracy_score(y_test, y_pred)\n",
        "\n",
        "# Вывод точности в процентах\n",
        "print(f\"Accuracy: {(accuracy * 100):.2f}%\")"
      ],
      "metadata": {
        "colab": {
          "base_uri": "https://localhost:8080/"
        },
        "id": "0bdy3z-r8ibE",
        "outputId": "d12063ec-27bd-4f2b-fc65-4be592c151a1"
      },
      "execution_count": 50,
      "outputs": [
        {
          "output_type": "stream",
          "name": "stdout",
          "text": [
            "Accuracy: 79.89%\n"
          ]
        }
      ]
    }
  ]
}